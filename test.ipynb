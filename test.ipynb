{
 "cells": [
  {
   "cell_type": "markdown",
   "id": "3fecd539-f2ae-44f2-9bb2-f9a979deab46",
   "metadata": {},
   "source": [
    "A Estratégia de abrir em nova aba, depois voltar para a primeira aba e abrir o próximo link não funcionou.\n",
    "\n",
    "Acho que é melhor coletar todos os urls salvando eles numa lista, depois abrir um por um com um novo web driver."
   ]
  },
  {
   "cell_type": "code",
   "execution_count": null,
   "id": "9008671c-ddb1-4f87-8ecb-02612ebeaa93",
   "metadata": {},
   "outputs": [
    {
     "name": "stdout",
     "output_type": "stream",
     "text": [
      "Modal fechado.\n",
      "Acessando anúncio 1: https://rj.olx.com.br/rio-de-janeiro-e-regiao/livros-e-revistas/livro-desenvolvimento-de-aplicacoes-comerciais-com-java-e-netbeans-1345585795\n"
     ]
    }
   ],
   "source": [
    "from crawler.crawler import Crawler\n",
    "\n",
    "c = Crawler()\n",
    "c.run()"
   ]
  },
  {
   "cell_type": "markdown",
   "id": "10069211-167a-49a9-9dd6-55331d603783",
   "metadata": {},
   "source": []
  },
  {
   "cell_type": "code",
   "execution_count": null,
   "id": "2426222a-3e6d-4875-987f-ece2d78b7396",
   "metadata": {},
   "outputs": [],
   "source": []
  },
  {
   "cell_type": "code",
   "execution_count": null,
   "id": "96d12fd8-e006-433b-960c-ada0fc416b97",
   "metadata": {},
   "outputs": [],
   "source": []
  },
  {
   "cell_type": "code",
   "execution_count": null,
   "id": "084637e8-0d08-499a-b754-95e1fc985499",
   "metadata": {},
   "outputs": [],
   "source": []
  },
  {
   "cell_type": "code",
   "execution_count": null,
   "id": "664e8bbf-aad1-4bfd-a709-dd58c661374d",
   "metadata": {},
   "outputs": [],
   "source": []
  },
  {
   "cell_type": "code",
   "execution_count": null,
   "id": "b344251e-5c61-4c6b-a082-9e79b9b454a9",
   "metadata": {},
   "outputs": [],
   "source": []
  },
  {
   "cell_type": "code",
   "execution_count": null,
   "id": "7ca50f69-8cb5-4153-ace8-0891628c5b59",
   "metadata": {},
   "outputs": [],
   "source": []
  }
 ],
 "metadata": {
  "kernelspec": {
   "display_name": "Python 3 (ipykernel)",
   "language": "python",
   "name": "python3"
  },
  "language_info": {
   "codemirror_mode": {
    "name": "ipython",
    "version": 3
   },
   "file_extension": ".py",
   "mimetype": "text/x-python",
   "name": "python",
   "nbconvert_exporter": "python",
   "pygments_lexer": "ipython3",
   "version": "3.12.2"
  }
 },
 "nbformat": 4,
 "nbformat_minor": 5
}
