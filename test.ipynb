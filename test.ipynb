{
 "cells": [
  {
   "cell_type": "code",
   "execution_count": null,
   "id": "edbb2573-44cf-421d-a22a-659b20a06128",
   "metadata": {},
   "outputs": [],
   "source": []
  },
  {
   "cell_type": "code",
   "execution_count": 2,
   "id": "9008671c-ddb1-4f87-8ecb-02612ebeaa93",
   "metadata": {
    "scrolled": true
   },
   "outputs": [
    {
     "name": "stdout",
     "output_type": "stream",
     "text": [
      "Modal fechado.\n",
      "Acessando anúncio 1: https://sp.olx.com.br/regiao-de-ribeirao-preto/livros-e-revistas/livro-java-ensino-didatico-desenvolvimento-e-implementacao-de-aplicacoes-sergio-furgeri-1379323480\n",
      "Number:  0\n",
      "Title:  Livro Java - Ensino Didático Desenvolvimento e Implementação de Aplicações Sérgio Furgeri\n",
      "Price:  150\n",
      "Acessando anúncio 2: https://sp.olx.com.br/regiao-de-ribeirao-preto/livros-e-revistas/livro-java-como-programar-10-edicao-1379322341\n",
      "Number:  1\n",
      "Title:  Livro Java Como Programar 10ª Edição\n",
      "Price:  300\n",
      "Acessando anúncio 3: https://sp.olx.com.br/sao-paulo-e-regiao/livros-e-revistas/livros-de-programacao-para-leigos-java-ingles-e-tecnicas-de-programacao-1361061253\n",
      "Number:  2\n",
      "Title:  Livros de programação para leigos - Java, Inglês e técnicas de programação\n",
      "Price:  100\n",
      "Acessando anúncio 4: https://sp.olx.com.br/sao-paulo-e-regiao/livros-e-revistas/livro-java-7-ensino-didatico-1344352145\n",
      "Number:  3\n",
      "Title:  Livro Java 7. Ensino Didático\n",
      "Price:  40\n",
      "Acessando anúncio 5: https://sp.olx.com.br/sao-paulo-e-regiao/livros-e-revistas/livro-use-a-cabeca-java-1362072222\n",
      "Number:  4\n",
      "Title:  Livro Use a cabeça! Java\n",
      "Price:  50\n",
      "Anúncio salvo com sucesso!\n",
      "{'url': 'https://sp.olx.com.br/regiao-de-ribeirao-preto/livros-e-revistas/livro-java-ensino-didatico-desenvolvimento-e-implementacao-de-aplicacoes-sergio-furgeri-1379323480', 'title': 'Livro Java - Ensino Didático Desenvolvimento e Implementação de Aplicações Sérgio Furgeri', 'price': '150'}\n",
      "Anúncio salvo com sucesso!\n",
      "{'url': 'https://sp.olx.com.br/regiao-de-ribeirao-preto/livros-e-revistas/livro-java-como-programar-10-edicao-1379322341', 'title': 'Livro Java Como Programar 10ª Edição', 'price': '300'}\n",
      "Anúncio salvo com sucesso!\n",
      "{'url': 'https://sp.olx.com.br/sao-paulo-e-regiao/livros-e-revistas/livros-de-programacao-para-leigos-java-ingles-e-tecnicas-de-programacao-1361061253', 'title': 'Livros de programação para leigos - Java, Inglês e técnicas de programação', 'price': '100'}\n",
      "Anúncio salvo com sucesso!\n",
      "{'url': 'https://sp.olx.com.br/sao-paulo-e-regiao/livros-e-revistas/livro-java-7-ensino-didatico-1344352145', 'title': 'Livro Java 7. Ensino Didático', 'price': '40'}\n",
      "Anúncio salvo com sucesso!\n",
      "{'url': 'https://sp.olx.com.br/sao-paulo-e-regiao/livros-e-revistas/livro-use-a-cabeca-java-1362072222', 'title': 'Livro Use a cabeça! Java', 'price': '50'}\n"
     ]
    }
   ],
   "source": [
    "from scraper.olx_scraper.scraper import Scraper\n",
    "\n",
    "s = Scraper()\n",
    "s.run()"
   ]
  },
  {
   "cell_type": "code",
   "execution_count": null,
   "id": "9bfeed1e-ff59-4854-b75e-e992c91bd699",
   "metadata": {},
   "outputs": [],
   "source": []
  },
  {
   "cell_type": "code",
   "execution_count": null,
   "id": "08ca4b18-b752-4d72-a3c2-6734252ba0a4",
   "metadata": {},
   "outputs": [],
   "source": []
  },
  {
   "cell_type": "code",
   "execution_count": null,
   "id": "fa0f4d48-560a-4988-8fcc-c535e5b39b51",
   "metadata": {},
   "outputs": [],
   "source": []
  },
  {
   "cell_type": "code",
   "execution_count": null,
   "id": "41914f73-c0c9-4b48-838d-380377baed46",
   "metadata": {},
   "outputs": [],
   "source": []
  },
  {
   "cell_type": "code",
   "execution_count": null,
   "id": "3b6bb218-11bf-434d-b8b9-658edbd8aeec",
   "metadata": {},
   "outputs": [],
   "source": []
  },
  {
   "cell_type": "markdown",
   "id": "10069211-167a-49a9-9dd6-55331d603783",
   "metadata": {},
   "source": []
  },
  {
   "cell_type": "code",
   "execution_count": 2,
   "id": "2426222a-3e6d-4875-987f-ece2d78b7396",
   "metadata": {},
   "outputs": [],
   "source": [
    "from backend.services.database_manager import DatabaseManager"
   ]
  },
  {
   "cell_type": "code",
   "execution_count": 3,
   "id": "96d12fd8-e006-433b-960c-ada0fc416b97",
   "metadata": {},
   "outputs": [],
   "source": [
    "db_manager = DatabaseManager()"
   ]
  },
  {
   "cell_type": "code",
   "execution_count": 3,
   "id": "084637e8-0d08-499a-b754-95e1fc985499",
   "metadata": {},
   "outputs": [
    {
     "name": "stdout",
     "output_type": "stream",
     "text": [
      "Anúncio salvo com sucesso!\n"
     ]
    }
   ],
   "source": [
    "db_manager.save_ad(\n",
    "    url=\"https://exemplo.com/anuncio/123\",\n",
    "    title=\"Notebook Usado\",\n",
    "    price=1500.50\n",
    ")"
   ]
  },
  {
   "cell_type": "code",
   "execution_count": 4,
   "id": "664e8bbf-aad1-4bfd-a709-dd58c661374d",
   "metadata": {},
   "outputs": [
    {
     "name": "stdout",
     "output_type": "stream",
     "text": [
      "ID: 1, Título: Livro Java 7. Ensino Didático, Preço: 40.00, URL: https://sp.olx.com.br/sao-paulo-e-regiao/livros-e-revistas/livro-java-7-ensino-didatico-1344352145\n",
      "ID: 2, Título: Livro Use a cabeça! Java, Preço: 50.00, URL: https://sp.olx.com.br/sao-paulo-e-regiao/livros-e-revistas/livro-use-a-cabeca-java-1362072222\n",
      "ID: 3, Título: Livro Use a Cabeça Java, Preço: 70.00, URL: https://sp.olx.com.br/sao-paulo-e-regiao/livros-e-revistas/livro-use-a-cabeca-java-1377167281\n",
      "ID: 4, Título: Livro Java 8 Programação de Computadores, Preço: 140.00, URL: https://sp.olx.com.br/sao-paulo-e-regiao/livros-e-revistas/livro-java-8-programacao-de-computadores-1377164926\n",
      "ID: 5, Título: Livro Java - Uma Abordagem Sobre Programacão Java - 2ª edição (Em Português). Viena, Preço: 29.00, URL: https://sp.olx.com.br/sao-paulo-e-regiao/livros-e-revistas/livro-java-uma-abordagem-sobre-programacao-java-2-edicao-em-portugues-viena-1345889353\n"
     ]
    }
   ],
   "source": [
    "ads = db_manager.get_all_ads()\n",
    "for ad in ads:\n",
    "    print(f\"ID: {ad.id}, Título: {ad.title}, Preço: {ad.price}, URL: {ad.url}\")"
   ]
  },
  {
   "cell_type": "code",
   "execution_count": 7,
   "id": "b344251e-5c61-4c6b-a082-9e79b9b454a9",
   "metadata": {},
   "outputs": [],
   "source": [
    "ad = db_manager.get_ad_by_id(1)\n",
    "if ad:\n",
    "    print(f\"Anúncio encontrado: {ad.title}\")"
   ]
  },
  {
   "cell_type": "code",
   "execution_count": 8,
   "id": "7ca50f69-8cb5-4153-ace8-0891628c5b59",
   "metadata": {},
   "outputs": [
    {
     "name": "stdout",
     "output_type": "stream",
     "text": [
      "Anúncio não encontrado.\n"
     ]
    }
   ],
   "source": [
    "db_manager.delete_ad(1)"
   ]
  },
  {
   "cell_type": "code",
   "execution_count": null,
   "id": "951b78c6-780a-4c38-b777-9ab0e4600c61",
   "metadata": {},
   "outputs": [],
   "source": []
  },
  {
   "cell_type": "code",
   "execution_count": null,
   "id": "b4645b2d-89c0-4d55-b63d-12ced53920ed",
   "metadata": {},
   "outputs": [],
   "source": []
  },
  {
   "cell_type": "code",
   "execution_count": null,
   "id": "e45d6249-236f-46d7-971f-baf8ecab5beb",
   "metadata": {},
   "outputs": [],
   "source": []
  },
  {
   "cell_type": "code",
   "execution_count": null,
   "id": "13e00f7d-0e94-4a92-b673-8355d68f5e40",
   "metadata": {},
   "outputs": [],
   "source": []
  },
  {
   "cell_type": "code",
   "execution_count": null,
   "id": "80cb9a67-3391-4c8b-a27e-05a716e681da",
   "metadata": {},
   "outputs": [],
   "source": []
  },
  {
   "cell_type": "code",
   "execution_count": null,
   "id": "84373fab-48ca-474b-9aa5-3723df247aae",
   "metadata": {},
   "outputs": [],
   "source": []
  },
  {
   "cell_type": "code",
   "execution_count": null,
   "id": "1af68bf0-4f5c-4174-8e23-399d964cd304",
   "metadata": {},
   "outputs": [],
   "source": []
  },
  {
   "cell_type": "code",
   "execution_count": null,
   "id": "88d21f15-28e7-4e7d-8891-66e7cfa6ff9b",
   "metadata": {},
   "outputs": [],
   "source": []
  },
  {
   "cell_type": "code",
   "execution_count": null,
   "id": "ed35082b-e8ee-4dc9-8816-d32086d61792",
   "metadata": {},
   "outputs": [],
   "source": []
  },
  {
   "cell_type": "code",
   "execution_count": null,
   "id": "89564c8a-433d-48ed-8ea9-af0b4fe60703",
   "metadata": {},
   "outputs": [],
   "source": []
  },
  {
   "cell_type": "code",
   "execution_count": null,
   "id": "6abeb7cb-db56-47a7-ad7a-028e70f52e0d",
   "metadata": {},
   "outputs": [],
   "source": []
  }
 ],
 "metadata": {
  "kernelspec": {
   "display_name": "Python 3 (ipykernel)",
   "language": "python",
   "name": "python3"
  },
  "language_info": {
   "codemirror_mode": {
    "name": "ipython",
    "version": 3
   },
   "file_extension": ".py",
   "mimetype": "text/x-python",
   "name": "python",
   "nbconvert_exporter": "python",
   "pygments_lexer": "ipython3",
   "version": "3.12.7"
  }
 },
 "nbformat": 4,
 "nbformat_minor": 5
}
