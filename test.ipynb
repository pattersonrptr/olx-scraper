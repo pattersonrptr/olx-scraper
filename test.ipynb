{
 "cells": [
  {
   "cell_type": "code",
   "execution_count": null,
   "id": "edbb2573-44cf-421d-a22a-659b20a06128",
   "metadata": {},
   "outputs": [],
   "source": []
  },
  {
   "cell_type": "code",
   "execution_count": 1,
   "id": "9008671c-ddb1-4f87-8ecb-02612ebeaa93",
   "metadata": {
    "scrolled": true
   },
   "outputs": [
    {
     "name": "stdout",
     "output_type": "stream",
     "text": [
      "Modal fechado.\n",
      "Acessando anúncio 1: https://sp.olx.com.br/sao-paulo-e-regiao/livros-e-revistas/livro-java-uma-abordagem-sobre-programacao-java-2-edicao-em-portugues-viena-1345889353\n",
      "Number:  0\n",
      "Title:  Livro Java - Uma Abordagem Sobre Programacão Java - 2ª edição (Em Português). Viena\n",
      "Price:  29\n",
      "Acessando anúncio 2: https://sp.olx.com.br/grande-campinas/escritorio/itens-para-escritorio/livro-ocp-oracle-certified-professional-java-se-8-programmer-ii-1379484419\n",
      "Number:  1\n",
      "Title:  Livro OCP: Oracle Certified Professional Java SE 8 Programmer II\n",
      "Price:  110\n",
      "Acessando anúncio 3: https://sp.olx.com.br/regiao-de-ribeirao-preto/livros-e-revistas/livro-java-ensino-didatico-desenvolvimento-e-implementacao-de-aplicacoes-sergio-furgeri-1379323480\n",
      "Number:  2\n",
      "Title:  Livro Java - Ensino Didático Desenvolvimento e Implementação de Aplicações Sérgio Furgeri\n",
      "Price:  150\n",
      "Acessando anúncio 4: https://sp.olx.com.br/regiao-de-ribeirao-preto/livros-e-revistas/livro-java-como-programar-10-edicao-1379322341\n",
      "Number:  3\n",
      "Title:  Livro Java Como Programar 10ª Edição\n",
      "Price:  300\n",
      "Acessando anúncio 5: https://sp.olx.com.br/sao-paulo-e-regiao/livros-e-revistas/livros-de-programacao-para-leigos-java-ingles-e-tecnicas-de-programacao-1361061253\n",
      "Number:  4\n",
      "Title:  Livros de programação para leigos - Java, Inglês e técnicas de programação\n",
      "Price:  100\n",
      "Anúncio salvo com sucesso: Livro Java - Uma Abordagem Sobre Programacão Java - 2ª edição (Em Português). Viena\n",
      "Anúncio salvo com sucesso: Livro OCP: Oracle Certified Professional Java SE 8 Programmer II\n",
      "Anúncio salvo com sucesso: Livro Java - Ensino Didático Desenvolvimento e Implementação de Aplicações Sérgio Furgeri\n",
      "Anúncio salvo com sucesso: Livro Java Como Programar 10ª Edição\n",
      "Anúncio salvo com sucesso: Livros de programação para leigos - Java, Inglês e técnicas de programação\n"
     ]
    }
   ],
   "source": [
    "from scrapers.olx_scraper.scraper import Scraper\n",
    "\n",
    "s = Scraper()\n",
    "s.run()"
   ]
  },
  {
   "cell_type": "code",
   "execution_count": null,
   "id": "9bfeed1e-ff59-4854-b75e-e992c91bd699",
   "metadata": {},
   "outputs": [],
   "source": []
  },
  {
   "cell_type": "code",
   "execution_count": null,
   "id": "951b78c6-780a-4c38-b777-9ab0e4600c61",
   "metadata": {},
   "outputs": [],
   "source": []
  },
  {
   "cell_type": "code",
   "execution_count": null,
   "id": "b4645b2d-89c0-4d55-b63d-12ced53920ed",
   "metadata": {},
   "outputs": [],
   "source": []
  },
  {
   "cell_type": "code",
   "execution_count": null,
   "id": "e45d6249-236f-46d7-971f-baf8ecab5beb",
   "metadata": {},
   "outputs": [],
   "source": []
  },
  {
   "cell_type": "code",
   "execution_count": null,
   "id": "13e00f7d-0e94-4a92-b673-8355d68f5e40",
   "metadata": {},
   "outputs": [],
   "source": []
  },
  {
   "cell_type": "code",
   "execution_count": null,
   "id": "80cb9a67-3391-4c8b-a27e-05a716e681da",
   "metadata": {},
   "outputs": [],
   "source": []
  },
  {
   "cell_type": "code",
   "execution_count": null,
   "id": "84373fab-48ca-474b-9aa5-3723df247aae",
   "metadata": {},
   "outputs": [],
   "source": []
  },
  {
   "cell_type": "code",
   "execution_count": null,
   "id": "1af68bf0-4f5c-4174-8e23-399d964cd304",
   "metadata": {},
   "outputs": [],
   "source": []
  },
  {
   "cell_type": "code",
   "execution_count": null,
   "id": "88d21f15-28e7-4e7d-8891-66e7cfa6ff9b",
   "metadata": {},
   "outputs": [],
   "source": []
  },
  {
   "cell_type": "code",
   "execution_count": null,
   "id": "ed35082b-e8ee-4dc9-8816-d32086d61792",
   "metadata": {},
   "outputs": [],
   "source": []
  },
  {
   "cell_type": "code",
   "execution_count": null,
   "id": "89564c8a-433d-48ed-8ea9-af0b4fe60703",
   "metadata": {},
   "outputs": [],
   "source": []
  },
  {
   "cell_type": "code",
   "execution_count": null,
   "id": "6abeb7cb-db56-47a7-ad7a-028e70f52e0d",
   "metadata": {},
   "outputs": [],
   "source": []
  }
 ],
 "metadata": {
  "kernelspec": {
   "display_name": "Python 3 (ipykernel)",
   "language": "python",
   "name": "python3"
  },
  "language_info": {
   "codemirror_mode": {
    "name": "ipython",
    "version": 3
   },
   "file_extension": ".py",
   "mimetype": "text/x-python",
   "name": "python",
   "nbconvert_exporter": "python",
   "pygments_lexer": "ipython3",
   "version": "3.13.2"
  }
 },
 "nbformat": 4,
 "nbformat_minor": 5
}
